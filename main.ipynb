{
 "cells": [
  {
   "cell_type": "code",
   "execution_count": null,
   "id": "6499824d",
   "metadata": {},
   "outputs": [],
   "source": [
    "import numpy as np\n",
    "import matplotlib.pyplot as plt\n",
    "from sklearn.linear_model import LinearRegression\n",
    "import pandas as pd\n",
    "import random"
   ]
  },
  {
   "cell_type": "code",
   "execution_count": null,
   "id": "b0f8234a",
   "metadata": {},
   "outputs": [],
   "source": [
    "dataSetAgua = pd.read_csv(\"consumo_agua_historico_2019.csv\")\n",
    "dataSetAgua.describe()"
   ]
  },
  {
   "cell_type": "code",
   "execution_count": null,
   "id": "e1fc5478",
   "metadata": {},
   "outputs": [],
   "source": [
    "listaConsumoTotal = dataSetAgua[\"consumo_total\"].tolist() # Vaiable Independiente, Lista del consumo total de cada delegacion\n",
    "\n",
    "listaColonias = dataSetAgua[\"colonia\"].tolist() #Lista colonias\n",
    "listaAlcaldias = dataSetAgua['alcaldia'].tolist() #Lista Alcaldias\n",
    "\n",
    "listaBimestre = dataSetAgua['bimestre'].tolist()\n",
    "\n",
    "cantConsumidaMaxMin = np.array(listaConsumoTotal) #Convertir el consumo total para poder ver el min y max y poder crear los datos de agua transportada\n",
    "\n",
    "print(cantConsumidaMaxMin.max())\n",
    "print(cantConsumidaMaxMin.min())\n",
    "\n",
    "listaAguaTransortada = [] #Lista del agua transportada\n",
    "for i in range(len(listaColonias)): #Ciclo para meter los datos creados a la lista anterior\n",
    "    AguaTransportada = random.randint(int(cantConsumidaMaxMin.min()), int(cantConsumidaMaxMin.max() + 500))\n",
    "    listaAguaTransortada.append(AguaTransportada)\n",
    "\n",
    "diccionarioAlcaldias_Colonias = {} #Diccionario de las colonias separadas por alcadias, junto con sus datos de obtencion y consumo de agua\n",
    "\n",
    "for i in range(len(listaAlcaldias)):\n",
    "    alcaldia = listaAlcaldias[i]\n",
    "    colonia = listaColonias[i]\n",
    "    transporte = listaAguaTransortada[i]\n",
    "    consumo = listaConsumoTotal[i]\n",
    "    bimestre = listaBimestre[i]\n",
    "    if alcaldia not in diccionarioAlcaldias_Colonias:\n",
    "        diccionarioAlcaldias_Colonias[alcaldia] = {}\n",
    "    if colonia in diccionarioAlcaldias_Colonias[alcaldia]:\n",
    "        diccionarioAlcaldias_Colonias[alcaldia][colonia][0].append(transporte)\n",
    "        diccionarioAlcaldias_Colonias[alcaldia][colonia][1].append(consumo)\n",
    "        diccionarioAlcaldias_Colonias[alcaldia][colonia][2].append(bimestre)\n",
    "\n",
    "    else:\n",
    "        diccionarioAlcaldias_Colonias[alcaldia][colonia] = [[transporte], [consumo], [bimestre]]"
   ]
  },
  {
   "cell_type": "code",
   "execution_count": null,
   "id": "58a13731",
   "metadata": {},
   "outputs": [],
   "source": [
    "datos = diccionarioAlcaldias_Colonias['BENITO JUAREZ']\n",
    "for colonia in datos:\n",
    "    if colonia == \"MODERNA\":\n",
    "        datosTransporte = diccionarioAlcaldias_Colonias['BENITO JUAREZ']['MODERNA'][0]\n",
    "        datosConsumo = diccionarioAlcaldias_Colonias['BENITO JUAREZ']['MODERNA'][1]\n",
    "        datosBimestre = diccionarioAlcaldias_Colonias['BENITO JUAREZ']['MODERNA'][2]\n",
    "\n",
    "print(datosConsumo)\n",
    "print(datosTransporte)\n",
    "print(datosBimestre)\n",
    "\n",
    "X = np.array([datosTransporte]).reshape(-1,1)\n",
    "Y = np.array(datosConsumo)\n",
    "\n",
    "modelo = LinearRegression()\n",
    "\n",
    "# Entrenar el modelo con los datos\n",
    "modelo.fit(X, Y)\n",
    "\n",
    "# Realizar predicciones\n",
    "y_pred = modelo.predict(X)\n",
    "\n",
    "# Visualizar los resultados\n",
    "plt.scatter(X, Y, color='blue') \n",
    "plt.scatter(X, y_pred, color='green') # Datos originales\n",
    "plt.plot(X, y_pred, color='red')  \n",
    "plt.ylim(-5,3000)\n",
    "plt.xlabel('Variable independiente')\n",
    "plt.ylabel('Variable dependiente')\n",
    "plt.title('Regresión lineal')\n",
    "plt.show()\n",
    "\n"
   ]
  },
  {
   "cell_type": "code",
   "execution_count": null,
   "id": "0022796a",
   "metadata": {},
   "outputs": [],
   "source": []
  }
 ],
 "metadata": {
  "kernelspec": {
   "display_name": "base",
   "language": "python",
   "name": "python3"
  },
  "language_info": {
   "codemirror_mode": {
    "name": "ipython",
    "version": 3
   },
   "file_extension": ".py",
   "mimetype": "text/x-python",
   "name": "python",
   "nbconvert_exporter": "python",
   "pygments_lexer": "ipython3",
   "version": "3.12.7"
  }
 },
 "nbformat": 4,
 "nbformat_minor": 5
}
